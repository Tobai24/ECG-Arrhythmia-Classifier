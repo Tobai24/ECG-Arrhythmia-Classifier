{
 "cells": [
  {
   "cell_type": "markdown",
   "metadata": {},
   "source": [
    "## Batch monitoring"
   ]
  },
  {
   "cell_type": "code",
   "execution_count": null,
   "metadata": {},
   "outputs": [],
   "source": [
    "import pickle\n",
    "import pandas as pd\n",
    "from evidently import ColumnMapping\n",
    "from evidently.report import Report\n",
    "from evidently.metrics import ColumnDriftMetric, DatasetDriftMetric, DatasetMissingValuesMetric\n",
    "from evidently.metric_preset import DataDriftPreset, DataQualityPreset, ClassificationPreset\n",
    "\n",
    "from evidently.ui.workspace import Workspace\n",
    "from evidently.ui.dashboards import DashboardPanelCounter, DashboardPanelPlot, CounterAgg, PanelValue, PlotType, ReportFilter\n",
    "from evidently.renderers.html_widgets import WidgetSize"
   ]
  },
  {
   "cell_type": "markdown",
   "metadata": {},
   "source": [
    "_load saved model_"
   ]
  },
  {
   "cell_type": "code",
   "execution_count": 4,
   "metadata": {},
   "outputs": [],
   "source": [
    "with open(\"../notebooks/model.pkl\", \"rb\") as f_out:\n",
    "    model = pickle.load(f_out)"
   ]
  },
  {
   "cell_type": "code",
   "execution_count": 15,
   "metadata": {},
   "outputs": [],
   "source": [
    "# use the INCART_Arrhythmia.csv for reference and MIT-BIH Arrhythmia Database.csv to stimulate production data\n",
    "data = pd.read_csv(\"../data/INCART_Arrhythmia.csv\")\n",
    "reference_data = data[:1000]\n",
    "production_data = data[1000:]"
   ]
  },
  {
   "cell_type": "code",
   "execution_count": 16,
   "metadata": {},
   "outputs": [
    {
     "data": {
      "text/html": [
       "<div>\n",
       "<style scoped>\n",
       "    .dataframe tbody tr th:only-of-type {\n",
       "        vertical-align: middle;\n",
       "    }\n",
       "\n",
       "    .dataframe tbody tr th {\n",
       "        vertical-align: top;\n",
       "    }\n",
       "\n",
       "    .dataframe thead th {\n",
       "        text-align: right;\n",
       "    }\n",
       "</style>\n",
       "<table border=\"1\" class=\"dataframe\">\n",
       "  <thead>\n",
       "    <tr style=\"text-align: right;\">\n",
       "      <th></th>\n",
       "      <th>record</th>\n",
       "      <th>type</th>\n",
       "      <th>0_pre-RR</th>\n",
       "      <th>0_post-RR</th>\n",
       "      <th>0_pPeak</th>\n",
       "      <th>0_tPeak</th>\n",
       "      <th>0_rPeak</th>\n",
       "      <th>0_sPeak</th>\n",
       "      <th>0_qPeak</th>\n",
       "      <th>0_qrs_interval</th>\n",
       "      <th>...</th>\n",
       "      <th>1_qPeak</th>\n",
       "      <th>1_qrs_interval</th>\n",
       "      <th>1_pq_interval</th>\n",
       "      <th>1_qt_interval</th>\n",
       "      <th>1_st_interval</th>\n",
       "      <th>1_qrs_morph0</th>\n",
       "      <th>1_qrs_morph1</th>\n",
       "      <th>1_qrs_morph2</th>\n",
       "      <th>1_qrs_morph3</th>\n",
       "      <th>1_qrs_morph4</th>\n",
       "    </tr>\n",
       "  </thead>\n",
       "  <tbody>\n",
       "    <tr>\n",
       "      <th>0</th>\n",
       "      <td>I01</td>\n",
       "      <td>N</td>\n",
       "      <td>163</td>\n",
       "      <td>165</td>\n",
       "      <td>0.069610</td>\n",
       "      <td>-0.083281</td>\n",
       "      <td>0.614133</td>\n",
       "      <td>-0.392761</td>\n",
       "      <td>0.047159</td>\n",
       "      <td>15</td>\n",
       "      <td>...</td>\n",
       "      <td>-0.023370</td>\n",
       "      <td>14</td>\n",
       "      <td>3</td>\n",
       "      <td>23</td>\n",
       "      <td>6</td>\n",
       "      <td>-0.023370</td>\n",
       "      <td>-0.011650</td>\n",
       "      <td>0.082608</td>\n",
       "      <td>0.101373</td>\n",
       "      <td>-0.183387</td>\n",
       "    </tr>\n",
       "    <tr>\n",
       "      <th>1</th>\n",
       "      <td>I01</td>\n",
       "      <td>N</td>\n",
       "      <td>165</td>\n",
       "      <td>166</td>\n",
       "      <td>-0.097030</td>\n",
       "      <td>0.597254</td>\n",
       "      <td>-0.078704</td>\n",
       "      <td>-0.078704</td>\n",
       "      <td>-0.137781</td>\n",
       "      <td>3</td>\n",
       "      <td>...</td>\n",
       "      <td>0.081637</td>\n",
       "      <td>15</td>\n",
       "      <td>5</td>\n",
       "      <td>27</td>\n",
       "      <td>7</td>\n",
       "      <td>0.081637</td>\n",
       "      <td>0.102992</td>\n",
       "      <td>0.191225</td>\n",
       "      <td>0.217544</td>\n",
       "      <td>-0.068248</td>\n",
       "    </tr>\n",
       "    <tr>\n",
       "      <th>2</th>\n",
       "      <td>I01</td>\n",
       "      <td>N</td>\n",
       "      <td>166</td>\n",
       "      <td>102</td>\n",
       "      <td>0.109399</td>\n",
       "      <td>0.680528</td>\n",
       "      <td>-0.010649</td>\n",
       "      <td>-0.010649</td>\n",
       "      <td>-0.720620</td>\n",
       "      <td>6</td>\n",
       "      <td>...</td>\n",
       "      <td>-0.148539</td>\n",
       "      <td>33</td>\n",
       "      <td>13</td>\n",
       "      <td>52</td>\n",
       "      <td>6</td>\n",
       "      <td>-0.148539</td>\n",
       "      <td>-0.060620</td>\n",
       "      <td>0.081080</td>\n",
       "      <td>0.204400</td>\n",
       "      <td>0.335172</td>\n",
       "    </tr>\n",
       "    <tr>\n",
       "      <th>3</th>\n",
       "      <td>I01</td>\n",
       "      <td>VEB</td>\n",
       "      <td>102</td>\n",
       "      <td>231</td>\n",
       "      <td>0.176376</td>\n",
       "      <td>0.256431</td>\n",
       "      <td>-0.101098</td>\n",
       "      <td>-0.707525</td>\n",
       "      <td>-0.101098</td>\n",
       "      <td>4</td>\n",
       "      <td>...</td>\n",
       "      <td>0.046898</td>\n",
       "      <td>21</td>\n",
       "      <td>9</td>\n",
       "      <td>34</td>\n",
       "      <td>4</td>\n",
       "      <td>0.046898</td>\n",
       "      <td>0.083728</td>\n",
       "      <td>0.279512</td>\n",
       "      <td>0.526785</td>\n",
       "      <td>0.450969</td>\n",
       "    </tr>\n",
       "    <tr>\n",
       "      <th>4</th>\n",
       "      <td>I01</td>\n",
       "      <td>N</td>\n",
       "      <td>231</td>\n",
       "      <td>165</td>\n",
       "      <td>0.585577</td>\n",
       "      <td>0.607461</td>\n",
       "      <td>-0.083499</td>\n",
       "      <td>-0.083499</td>\n",
       "      <td>-0.167858</td>\n",
       "      <td>3</td>\n",
       "      <td>...</td>\n",
       "      <td>-0.112552</td>\n",
       "      <td>32</td>\n",
       "      <td>5</td>\n",
       "      <td>43</td>\n",
       "      <td>6</td>\n",
       "      <td>-0.112552</td>\n",
       "      <td>0.012989</td>\n",
       "      <td>0.091491</td>\n",
       "      <td>0.134004</td>\n",
       "      <td>0.265232</td>\n",
       "    </tr>\n",
       "  </tbody>\n",
       "</table>\n",
       "<p>5 rows × 34 columns</p>\n",
       "</div>"
      ],
      "text/plain": [
       "  record type  0_pre-RR  0_post-RR   0_pPeak   0_tPeak   0_rPeak   0_sPeak  \\\n",
       "0    I01    N       163        165  0.069610 -0.083281  0.614133 -0.392761   \n",
       "1    I01    N       165        166 -0.097030  0.597254 -0.078704 -0.078704   \n",
       "2    I01    N       166        102  0.109399  0.680528 -0.010649 -0.010649   \n",
       "3    I01  VEB       102        231  0.176376  0.256431 -0.101098 -0.707525   \n",
       "4    I01    N       231        165  0.585577  0.607461 -0.083499 -0.083499   \n",
       "\n",
       "    0_qPeak  0_qrs_interval  ...   1_qPeak  1_qrs_interval  1_pq_interval  \\\n",
       "0  0.047159              15  ... -0.023370              14              3   \n",
       "1 -0.137781               3  ...  0.081637              15              5   \n",
       "2 -0.720620               6  ... -0.148539              33             13   \n",
       "3 -0.101098               4  ...  0.046898              21              9   \n",
       "4 -0.167858               3  ... -0.112552              32              5   \n",
       "\n",
       "   1_qt_interval  1_st_interval  1_qrs_morph0  1_qrs_morph1  1_qrs_morph2  \\\n",
       "0             23              6     -0.023370     -0.011650      0.082608   \n",
       "1             27              7      0.081637      0.102992      0.191225   \n",
       "2             52              6     -0.148539     -0.060620      0.081080   \n",
       "3             34              4      0.046898      0.083728      0.279512   \n",
       "4             43              6     -0.112552      0.012989      0.091491   \n",
       "\n",
       "   1_qrs_morph3  1_qrs_morph4  \n",
       "0      0.101373     -0.183387  \n",
       "1      0.217544     -0.068248  \n",
       "2      0.204400      0.335172  \n",
       "3      0.526785      0.450969  \n",
       "4      0.134004      0.265232  \n",
       "\n",
       "[5 rows x 34 columns]"
      ]
     },
     "execution_count": 16,
     "metadata": {},
     "output_type": "execute_result"
    }
   ],
   "source": [
    "reference_data.head()"
   ]
  },
  {
   "cell_type": "markdown",
   "metadata": {},
   "source": [
    "### Evidently AI Metrics"
   ]
  },
  {
   "cell_type": "code",
   "execution_count": 7,
   "metadata": {},
   "outputs": [],
   "source": [
    "numerical_features = [\"record\"]\n",
    "categorical_features = ['0_pre-RR', '0_post-RR', '0_pPeak', '0_tPeak',\n",
    "       '0_rPeak', '0_sPeak', '0_qPeak', '0_qrs_interval', '0_pq_interval',\n",
    "       '0_qt_interval', '0_st_interval', '0_qrs_morph0', '0_qrs_morph1',\n",
    "       '0_qrs_morph2', '0_qrs_morph3', '0_qrs_morph4', '1_pre-RR', '1_post-RR',\n",
    "       '1_pPeak', '1_tPeak', '1_rPeak', '1_sPeak', '1_qPeak', '1_qrs_interval',\n",
    "       '1_pq_interval', '1_qt_interval', '1_st_interval', '1_qrs_morph0',\n",
    "       '1_qrs_morph1', '1_qrs_morph2', '1_qrs_morph3', '1_qrs_morph4']"
   ]
  },
  {
   "cell_type": "code",
   "execution_count": 17,
   "metadata": {},
   "outputs": [],
   "source": [
    "column_mapping = ColumnMapping(\n",
    "    target=None,\n",
    "    prediction='type',\n",
    "    numerical_features=numerical_features,\n",
    "    categorical_features=categorical_features\n",
    ")"
   ]
  },
  {
   "cell_type": "code",
   "execution_count": 18,
   "metadata": {},
   "outputs": [],
   "source": [
    "report = Report(metrics=[\n",
    "    ColumnDriftMetric(column_name='type'),\n",
    "    DatasetDriftMetric(),\n",
    "    DatasetMissingValuesMetric()\n",
    "])"
   ]
  },
  {
   "cell_type": "code",
   "execution_count": 19,
   "metadata": {},
   "outputs": [
    {
     "data": {
      "text/plain": [
       "(1000, 34)"
      ]
     },
     "execution_count": 19,
     "metadata": {},
     "output_type": "execute_result"
    }
   ],
   "source": [
    "reference_data.shape"
   ]
  },
  {
   "cell_type": "code",
   "execution_count": null,
   "metadata": {},
   "outputs": [
    {
     "name": "stderr",
     "output_type": "stream",
     "text": [
      "/root/.local/share/virtualenvs/ECG-Arrhythmia-Classifier-fcqqu0k5/lib/python3.12/site-packages/scipy/stats/_stats_py.py:7335: RuntimeWarning:\n",
      "\n",
      "divide by zero encountered in divide\n",
      "\n",
      "/root/.local/share/virtualenvs/ECG-Arrhythmia-Classifier-fcqqu0k5/lib/python3.12/site-packages/scipy/stats/_stats_py.py:7335: RuntimeWarning:\n",
      "\n",
      "divide by zero encountered in divide\n",
      "\n",
      "/root/.local/share/virtualenvs/ECG-Arrhythmia-Classifier-fcqqu0k5/lib/python3.12/site-packages/scipy/stats/_stats_py.py:7335: RuntimeWarning:\n",
      "\n",
      "divide by zero encountered in divide\n",
      "\n"
     ]
    }
   ],
   "source": [
    "report.run(reference_data=reference_data, current_data=production_data, column_mapping=column_mapping)"
   ]
  },
  {
   "cell_type": "code",
   "execution_count": 12,
   "metadata": {},
   "outputs": [
    {
     "ename": "KeyboardInterrupt",
     "evalue": "",
     "output_type": "error",
     "traceback": [
      "\u001b[0;31m---------------------------------------------------------------------------\u001b[0m",
      "\u001b[0;31mKeyboardInterrupt\u001b[0m                         Traceback (most recent call last)",
      "Cell \u001b[0;32mIn[12], line 1\u001b[0m\n\u001b[0;32m----> 1\u001b[0m \u001b[43mreport\u001b[49m\u001b[38;5;241;43m.\u001b[39;49m\u001b[43mshow\u001b[49m\u001b[43m(\u001b[49m\u001b[43mmode\u001b[49m\u001b[38;5;241;43m=\u001b[39;49m\u001b[38;5;124;43m'\u001b[39;49m\u001b[38;5;124;43minline\u001b[39;49m\u001b[38;5;124;43m'\u001b[39;49m\u001b[43m)\u001b[49m\n",
      "File \u001b[0;32m~/.local/share/virtualenvs/ECG-Arrhythmia-Classifier-fcqqu0k5/lib/python3.12/site-packages/evidently/suite/base_suite.py:236\u001b[0m, in \u001b[0;36mDisplay.show\u001b[0;34m(self, mode)\u001b[0m\n\u001b[1;32m    228\u001b[0m \u001b[38;5;28;01mdef\u001b[39;00m\u001b[38;5;250m \u001b[39m\u001b[38;5;21mshow\u001b[39m(\u001b[38;5;28mself\u001b[39m, mode\u001b[38;5;241m=\u001b[39m\u001b[38;5;124m\"\u001b[39m\u001b[38;5;124mauto\u001b[39m\u001b[38;5;124m\"\u001b[39m):\n\u001b[1;32m    229\u001b[0m \u001b[38;5;250m    \u001b[39m\u001b[38;5;124;03m\"\"\"\u001b[39;00m\n\u001b[1;32m    230\u001b[0m \u001b[38;5;124;03m    Keyword arguments:\u001b[39;00m\n\u001b[1;32m    231\u001b[0m \u001b[38;5;124;03m    `mode` - Deprecated.\u001b[39;00m\n\u001b[0;32m   (...)\u001b[0m\n\u001b[1;32m    234\u001b[0m \u001b[38;5;124;03m    this function without any args, like: `.show()`\u001b[39;00m\n\u001b[1;32m    235\u001b[0m \u001b[38;5;124;03m    \"\"\"\u001b[39;00m\n\u001b[0;32m--> 236\u001b[0m     dashboard_id, dashboard_info, graphs \u001b[38;5;241m=\u001b[39m \u001b[38;5;28;43mself\u001b[39;49m\u001b[38;5;241;43m.\u001b[39;49m\u001b[43m_build_dashboard_info\u001b[49m\u001b[43m(\u001b[49m\u001b[43m)\u001b[49m\n\u001b[1;32m    237\u001b[0m     template_params \u001b[38;5;241m=\u001b[39m TemplateParams(\n\u001b[1;32m    238\u001b[0m         dashboard_id\u001b[38;5;241m=\u001b[39mdashboard_id,\n\u001b[1;32m    239\u001b[0m         dashboard_info\u001b[38;5;241m=\u001b[39mdashboard_info,\n\u001b[1;32m    240\u001b[0m         additional_graphs\u001b[38;5;241m=\u001b[39mgraphs,\n\u001b[1;32m    241\u001b[0m     )\n\u001b[1;32m    242\u001b[0m     \u001b[38;5;66;03m# pylint: disable=import-outside-toplevel\u001b[39;00m\n",
      "File \u001b[0;32m~/.local/share/virtualenvs/ECG-Arrhythmia-Classifier-fcqqu0k5/lib/python3.12/site-packages/evidently/report/report.py:233\u001b[0m, in \u001b[0;36mReport._build_dashboard_info\u001b[0;34m(self)\u001b[0m\n\u001b[1;32m    231\u001b[0m \u001b[38;5;66;03m# set the color scheme from the report for each render\u001b[39;00m\n\u001b[1;32m    232\u001b[0m renderer\u001b[38;5;241m.\u001b[39mcolor_options \u001b[38;5;241m=\u001b[39m color_options\n\u001b[0;32m--> 233\u001b[0m html_info \u001b[38;5;241m=\u001b[39m \u001b[43mrenderer\u001b[49m\u001b[38;5;241;43m.\u001b[39;49m\u001b[43mrender_html\u001b[49m\u001b[43m(\u001b[49m\u001b[43mmetric\u001b[49m\u001b[43m)\u001b[49m\n\u001b[1;32m    234\u001b[0m set_source_fingerprint(html_info, metric)\n\u001b[1;32m    235\u001b[0m replace_widgets_ids(html_info, id_generator)\n",
      "File \u001b[0;32m~/.local/share/virtualenvs/ECG-Arrhythmia-Classifier-fcqqu0k5/lib/python3.12/site-packages/evidently/metrics/data_drift/dataset_drift_metric.py:117\u001b[0m, in \u001b[0;36mDataDriftMetricsRenderer.render_html\u001b[0;34m(self, obj)\u001b[0m\n\u001b[1;32m    116\u001b[0m \u001b[38;5;28;01mdef\u001b[39;00m\u001b[38;5;250m \u001b[39m\u001b[38;5;21mrender_html\u001b[39m(\u001b[38;5;28mself\u001b[39m, obj: DatasetDriftMetric) \u001b[38;5;241m-\u001b[39m\u001b[38;5;241m>\u001b[39m List[BaseWidgetInfo]:\n\u001b[0;32m--> 117\u001b[0m     result \u001b[38;5;241m=\u001b[39m \u001b[43mobj\u001b[49m\u001b[38;5;241;43m.\u001b[39;49m\u001b[43mget_result\u001b[49m\u001b[43m(\u001b[49m\u001b[43m)\u001b[49m\n\u001b[1;32m    119\u001b[0m     \u001b[38;5;28;01mif\u001b[39;00m result\u001b[38;5;241m.\u001b[39mdataset_drift:\n\u001b[1;32m    120\u001b[0m         drift_detected \u001b[38;5;241m=\u001b[39m \u001b[38;5;124m\"\u001b[39m\u001b[38;5;124mdetected\u001b[39m\u001b[38;5;124m\"\u001b[39m\n",
      "File \u001b[0;32m~/.local/share/virtualenvs/ECG-Arrhythmia-Classifier-fcqqu0k5/lib/python3.12/site-packages/evidently/base_metric.py:279\u001b[0m, in \u001b[0;36mMetric.get_result\u001b[0;34m(self)\u001b[0m\n\u001b[1;32m    277\u001b[0m result \u001b[38;5;241m=\u001b[39m \u001b[38;5;28mself\u001b[39m\u001b[38;5;241m.\u001b[39m_context\u001b[38;5;241m.\u001b[39mmetric_results\u001b[38;5;241m.\u001b[39mget(\u001b[38;5;28mself\u001b[39m, \u001b[38;5;28;01mNone\u001b[39;00m)\n\u001b[1;32m    278\u001b[0m \u001b[38;5;28;01mif\u001b[39;00m \u001b[38;5;28misinstance\u001b[39m(result, ErrorResult):\n\u001b[0;32m--> 279\u001b[0m     \u001b[38;5;28;01mraise\u001b[39;00m result\u001b[38;5;241m.\u001b[39mexception\n\u001b[1;32m    280\u001b[0m \u001b[38;5;28;01mif\u001b[39;00m result \u001b[38;5;129;01mis\u001b[39;00m \u001b[38;5;28;01mNone\u001b[39;00m:\n\u001b[1;32m    281\u001b[0m     \u001b[38;5;28;01mraise\u001b[39;00m \u001b[38;5;167;01mValueError\u001b[39;00m(\u001b[38;5;124mf\u001b[39m\u001b[38;5;124m\"\u001b[39m\u001b[38;5;124mNo result found for metric \u001b[39m\u001b[38;5;132;01m{\u001b[39;00m\u001b[38;5;28mself\u001b[39m\u001b[38;5;132;01m}\u001b[39;00m\u001b[38;5;124m of type \u001b[39m\u001b[38;5;132;01m{\u001b[39;00m\u001b[38;5;28mtype\u001b[39m(\u001b[38;5;28mself\u001b[39m)\u001b[38;5;241m.\u001b[39m\u001b[38;5;18m__name__\u001b[39m\u001b[38;5;132;01m}\u001b[39;00m\u001b[38;5;124m\"\u001b[39m)\n",
      "    \u001b[0;31m[... skipping hidden 1 frame]\u001b[0m\n",
      "Cell \u001b[0;32mIn[12], line 1\u001b[0m\n\u001b[0;32m----> 1\u001b[0m \u001b[43mreport\u001b[49m\u001b[38;5;241;43m.\u001b[39;49m\u001b[43mshow\u001b[49m\u001b[43m(\u001b[49m\u001b[43mmode\u001b[49m\u001b[38;5;241;43m=\u001b[39;49m\u001b[38;5;124;43m'\u001b[39;49m\u001b[38;5;124;43minline\u001b[39;49m\u001b[38;5;124;43m'\u001b[39;49m\u001b[43m)\u001b[49m\n",
      "File \u001b[0;32m~/.local/share/virtualenvs/ECG-Arrhythmia-Classifier-fcqqu0k5/lib/python3.12/site-packages/evidently/suite/base_suite.py:236\u001b[0m, in \u001b[0;36mDisplay.show\u001b[0;34m(self, mode)\u001b[0m\n\u001b[1;32m    228\u001b[0m \u001b[38;5;28;01mdef\u001b[39;00m\u001b[38;5;250m \u001b[39m\u001b[38;5;21mshow\u001b[39m(\u001b[38;5;28mself\u001b[39m, mode\u001b[38;5;241m=\u001b[39m\u001b[38;5;124m\"\u001b[39m\u001b[38;5;124mauto\u001b[39m\u001b[38;5;124m\"\u001b[39m):\n\u001b[1;32m    229\u001b[0m \u001b[38;5;250m    \u001b[39m\u001b[38;5;124;03m\"\"\"\u001b[39;00m\n\u001b[1;32m    230\u001b[0m \u001b[38;5;124;03m    Keyword arguments:\u001b[39;00m\n\u001b[1;32m    231\u001b[0m \u001b[38;5;124;03m    `mode` - Deprecated.\u001b[39;00m\n\u001b[0;32m   (...)\u001b[0m\n\u001b[1;32m    234\u001b[0m \u001b[38;5;124;03m    this function without any args, like: `.show()`\u001b[39;00m\n\u001b[1;32m    235\u001b[0m \u001b[38;5;124;03m    \"\"\"\u001b[39;00m\n\u001b[0;32m--> 236\u001b[0m     dashboard_id, dashboard_info, graphs \u001b[38;5;241m=\u001b[39m \u001b[38;5;28;43mself\u001b[39;49m\u001b[38;5;241;43m.\u001b[39;49m\u001b[43m_build_dashboard_info\u001b[49m\u001b[43m(\u001b[49m\u001b[43m)\u001b[49m\n\u001b[1;32m    237\u001b[0m     template_params \u001b[38;5;241m=\u001b[39m TemplateParams(\n\u001b[1;32m    238\u001b[0m         dashboard_id\u001b[38;5;241m=\u001b[39mdashboard_id,\n\u001b[1;32m    239\u001b[0m         dashboard_info\u001b[38;5;241m=\u001b[39mdashboard_info,\n\u001b[1;32m    240\u001b[0m         additional_graphs\u001b[38;5;241m=\u001b[39mgraphs,\n\u001b[1;32m    241\u001b[0m     )\n\u001b[1;32m    242\u001b[0m     \u001b[38;5;66;03m# pylint: disable=import-outside-toplevel\u001b[39;00m\n",
      "File \u001b[0;32m~/.local/share/virtualenvs/ECG-Arrhythmia-Classifier-fcqqu0k5/lib/python3.12/site-packages/evidently/report/report.py:233\u001b[0m, in \u001b[0;36mReport._build_dashboard_info\u001b[0;34m(self)\u001b[0m\n\u001b[1;32m    231\u001b[0m \u001b[38;5;66;03m# set the color scheme from the report for each render\u001b[39;00m\n\u001b[1;32m    232\u001b[0m renderer\u001b[38;5;241m.\u001b[39mcolor_options \u001b[38;5;241m=\u001b[39m color_options\n\u001b[0;32m--> 233\u001b[0m html_info \u001b[38;5;241m=\u001b[39m \u001b[43mrenderer\u001b[49m\u001b[38;5;241;43m.\u001b[39;49m\u001b[43mrender_html\u001b[49m\u001b[43m(\u001b[49m\u001b[43mmetric\u001b[49m\u001b[43m)\u001b[49m\n\u001b[1;32m    234\u001b[0m set_source_fingerprint(html_info, metric)\n\u001b[1;32m    235\u001b[0m replace_widgets_ids(html_info, id_generator)\n",
      "File \u001b[0;32m~/.local/share/virtualenvs/ECG-Arrhythmia-Classifier-fcqqu0k5/lib/python3.12/site-packages/evidently/metrics/data_drift/dataset_drift_metric.py:117\u001b[0m, in \u001b[0;36mDataDriftMetricsRenderer.render_html\u001b[0;34m(self, obj)\u001b[0m\n\u001b[1;32m    116\u001b[0m \u001b[38;5;28;01mdef\u001b[39;00m\u001b[38;5;250m \u001b[39m\u001b[38;5;21mrender_html\u001b[39m(\u001b[38;5;28mself\u001b[39m, obj: DatasetDriftMetric) \u001b[38;5;241m-\u001b[39m\u001b[38;5;241m>\u001b[39m List[BaseWidgetInfo]:\n\u001b[0;32m--> 117\u001b[0m     result \u001b[38;5;241m=\u001b[39m \u001b[43mobj\u001b[49m\u001b[38;5;241;43m.\u001b[39;49m\u001b[43mget_result\u001b[49m\u001b[43m(\u001b[49m\u001b[43m)\u001b[49m\n\u001b[1;32m    119\u001b[0m     \u001b[38;5;28;01mif\u001b[39;00m result\u001b[38;5;241m.\u001b[39mdataset_drift:\n\u001b[1;32m    120\u001b[0m         drift_detected \u001b[38;5;241m=\u001b[39m \u001b[38;5;124m\"\u001b[39m\u001b[38;5;124mdetected\u001b[39m\u001b[38;5;124m\"\u001b[39m\n",
      "File \u001b[0;32m~/.local/share/virtualenvs/ECG-Arrhythmia-Classifier-fcqqu0k5/lib/python3.12/site-packages/evidently/base_metric.py:279\u001b[0m, in \u001b[0;36mMetric.get_result\u001b[0;34m(self)\u001b[0m\n\u001b[1;32m    277\u001b[0m result \u001b[38;5;241m=\u001b[39m \u001b[38;5;28mself\u001b[39m\u001b[38;5;241m.\u001b[39m_context\u001b[38;5;241m.\u001b[39mmetric_results\u001b[38;5;241m.\u001b[39mget(\u001b[38;5;28mself\u001b[39m, \u001b[38;5;28;01mNone\u001b[39;00m)\n\u001b[1;32m    278\u001b[0m \u001b[38;5;28;01mif\u001b[39;00m \u001b[38;5;28misinstance\u001b[39m(result, ErrorResult):\n\u001b[0;32m--> 279\u001b[0m     \u001b[38;5;28;01mraise\u001b[39;00m result\u001b[38;5;241m.\u001b[39mexception\n\u001b[1;32m    280\u001b[0m \u001b[38;5;28;01mif\u001b[39;00m result \u001b[38;5;129;01mis\u001b[39;00m \u001b[38;5;28;01mNone\u001b[39;00m:\n\u001b[1;32m    281\u001b[0m     \u001b[38;5;28;01mraise\u001b[39;00m \u001b[38;5;167;01mValueError\u001b[39;00m(\u001b[38;5;124mf\u001b[39m\u001b[38;5;124m\"\u001b[39m\u001b[38;5;124mNo result found for metric \u001b[39m\u001b[38;5;132;01m{\u001b[39;00m\u001b[38;5;28mself\u001b[39m\u001b[38;5;132;01m}\u001b[39;00m\u001b[38;5;124m of type \u001b[39m\u001b[38;5;132;01m{\u001b[39;00m\u001b[38;5;28mtype\u001b[39m(\u001b[38;5;28mself\u001b[39m)\u001b[38;5;241m.\u001b[39m\u001b[38;5;18m__name__\u001b[39m\u001b[38;5;132;01m}\u001b[39;00m\u001b[38;5;124m\"\u001b[39m)\n",
      "File \u001b[0;32m~/.local/share/virtualenvs/ECG-Arrhythmia-Classifier-fcqqu0k5/lib/python3.12/site-packages/evidently/calculation_engine/engine.py:72\u001b[0m, in \u001b[0;36mEngine.execute_metrics\u001b[0;34m(self, context, data)\u001b[0m\n\u001b[1;32m     70\u001b[0m logging\u001b[38;5;241m.\u001b[39mdebug(\u001b[38;5;124mf\u001b[39m\u001b[38;5;124m\"\u001b[39m\u001b[38;5;124mExecuting \u001b[39m\u001b[38;5;132;01m{\u001b[39;00m\u001b[38;5;28mtype\u001b[39m(calculation)\u001b[38;5;132;01m}\u001b[39;00m\u001b[38;5;124m...\u001b[39m\u001b[38;5;124m\"\u001b[39m)\n\u001b[1;32m     71\u001b[0m \u001b[38;5;28;01mtry\u001b[39;00m:\n\u001b[0;32m---> 72\u001b[0m     calculations[metric] \u001b[38;5;241m=\u001b[39m \u001b[43mcalculation\u001b[49m\u001b[38;5;241;43m.\u001b[39;49m\u001b[43mcalculate\u001b[49m\u001b[43m(\u001b[49m\u001b[43mcontext\u001b[49m\u001b[43m,\u001b[49m\u001b[43m \u001b[49m\u001b[43mconverted_data\u001b[49m\u001b[43m)\u001b[49m\n\u001b[1;32m     73\u001b[0m \u001b[38;5;28;01mexcept\u001b[39;00m \u001b[38;5;167;01mBaseException\u001b[39;00m \u001b[38;5;28;01mas\u001b[39;00m ex:\n\u001b[1;32m     74\u001b[0m     calculations[metric] \u001b[38;5;241m=\u001b[39m ErrorResult(exception\u001b[38;5;241m=\u001b[39mex)\n",
      "File \u001b[0;32m~/.local/share/virtualenvs/ECG-Arrhythmia-Classifier-fcqqu0k5/lib/python3.12/site-packages/evidently/calculation_engine/python_engine.py:101\u001b[0m, in \u001b[0;36mPythonEngine.get_metric_implementation.<locals>._Wrapper.calculate\u001b[0;34m(self, context, data)\u001b[0m\n\u001b[1;32m    100\u001b[0m \u001b[38;5;28;01mdef\u001b[39;00m\u001b[38;5;250m \u001b[39m\u001b[38;5;21mcalculate\u001b[39m(\u001b[38;5;28mself\u001b[39m, context, data: InputData):\n\u001b[0;32m--> 101\u001b[0m     \u001b[38;5;28;01mreturn\u001b[39;00m \u001b[38;5;28;43mself\u001b[39;49m\u001b[38;5;241;43m.\u001b[39;49m\u001b[43mmetric\u001b[49m\u001b[38;5;241;43m.\u001b[39;49m\u001b[43mcalculate\u001b[49m\u001b[43m(\u001b[49m\u001b[43mdata\u001b[49m\u001b[43m)\u001b[49m\n",
      "File \u001b[0;32m~/.local/share/virtualenvs/ECG-Arrhythmia-Classifier-fcqqu0k5/lib/python3.12/site-packages/evidently/metrics/data_drift/dataset_drift_metric.py:96\u001b[0m, in \u001b[0;36mDatasetDriftMetric.calculate\u001b[0;34m(self, data)\u001b[0m\n\u001b[1;32m     93\u001b[0m     \u001b[38;5;28;01mraise\u001b[39;00m \u001b[38;5;167;01mValueError\u001b[39;00m(\u001b[38;5;124m\"\u001b[39m\u001b[38;5;124mReference dataset should be present\u001b[39m\u001b[38;5;124m\"\u001b[39m)\n\u001b[1;32m     95\u001b[0m dataset_columns \u001b[38;5;241m=\u001b[39m process_columns(data\u001b[38;5;241m.\u001b[39mreference_data, data\u001b[38;5;241m.\u001b[39mcolumn_mapping)\n\u001b[0;32m---> 96\u001b[0m result \u001b[38;5;241m=\u001b[39m \u001b[43mget_drift_for_columns\u001b[49m\u001b[43m(\u001b[49m\n\u001b[1;32m     97\u001b[0m \u001b[43m    \u001b[49m\u001b[43mcurrent_data\u001b[49m\u001b[38;5;241;43m=\u001b[39;49m\u001b[43mdata\u001b[49m\u001b[38;5;241;43m.\u001b[39;49m\u001b[43mcurrent_data\u001b[49m\u001b[43m,\u001b[49m\n\u001b[1;32m     98\u001b[0m \u001b[43m    \u001b[49m\u001b[43mreference_data\u001b[49m\u001b[38;5;241;43m=\u001b[39;49m\u001b[43mdata\u001b[49m\u001b[38;5;241;43m.\u001b[39;49m\u001b[43mreference_data\u001b[49m\u001b[43m,\u001b[49m\n\u001b[1;32m     99\u001b[0m \u001b[43m    \u001b[49m\u001b[43mdata_drift_options\u001b[49m\u001b[38;5;241;43m=\u001b[39;49m\u001b[38;5;28;43mself\u001b[39;49m\u001b[38;5;241;43m.\u001b[39;49m\u001b[43mdrift_options\u001b[49m\u001b[43m,\u001b[49m\n\u001b[1;32m    100\u001b[0m \u001b[43m    \u001b[49m\u001b[43mdrift_share_threshold\u001b[49m\u001b[38;5;241;43m=\u001b[39;49m\u001b[38;5;28;43mself\u001b[39;49m\u001b[38;5;241;43m.\u001b[39;49m\u001b[43mdrift_share\u001b[49m\u001b[43m,\u001b[49m\n\u001b[1;32m    101\u001b[0m \u001b[43m    \u001b[49m\u001b[43mdataset_columns\u001b[49m\u001b[38;5;241;43m=\u001b[39;49m\u001b[43mdataset_columns\u001b[49m\u001b[43m,\u001b[49m\n\u001b[1;32m    102\u001b[0m \u001b[43m    \u001b[49m\u001b[43mcolumns\u001b[49m\u001b[38;5;241;43m=\u001b[39;49m\u001b[38;5;28;43mself\u001b[39;49m\u001b[38;5;241;43m.\u001b[39;49m\u001b[43mcolumns\u001b[49m\u001b[43m,\u001b[49m\n\u001b[1;32m    103\u001b[0m \u001b[43m    \u001b[49m\u001b[43magg_data\u001b[49m\u001b[38;5;241;43m=\u001b[39;49m\u001b[38;5;28;43;01mTrue\u001b[39;49;00m\u001b[43m,\u001b[49m\n\u001b[1;32m    104\u001b[0m \u001b[43m\u001b[49m\u001b[43m)\u001b[49m\n\u001b[1;32m    105\u001b[0m \u001b[38;5;28;01mreturn\u001b[39;00m DatasetDriftMetricResults(\n\u001b[1;32m    106\u001b[0m     drift_share\u001b[38;5;241m=\u001b[39m\u001b[38;5;28mself\u001b[39m\u001b[38;5;241m.\u001b[39mdrift_share,\n\u001b[1;32m    107\u001b[0m     number_of_columns\u001b[38;5;241m=\u001b[39mresult\u001b[38;5;241m.\u001b[39mnumber_of_columns,\n\u001b[0;32m   (...)\u001b[0m\n\u001b[1;32m    110\u001b[0m     dataset_drift\u001b[38;5;241m=\u001b[39mresult\u001b[38;5;241m.\u001b[39mdataset_drift,\n\u001b[1;32m    111\u001b[0m )\n",
      "File \u001b[0;32m~/.local/share/virtualenvs/ECG-Arrhythmia-Classifier-fcqqu0k5/lib/python3.12/site-packages/evidently/calculations/data_drift.py:499\u001b[0m, in \u001b[0;36mget_drift_for_columns\u001b[0;34m(current_data, reference_data, dataset_columns, data_drift_options, drift_share_threshold, columns, agg_data)\u001b[0m\n\u001b[1;32m    493\u001b[0m num_correlations \u001b[38;5;241m=\u001b[39m (\n\u001b[1;32m    494\u001b[0m     current_correlations,\n\u001b[1;32m    495\u001b[0m     reference_correlations,\n\u001b[1;32m    496\u001b[0m )\n\u001b[1;32m    498\u001b[0m \u001b[38;5;28;01mfor\u001b[39;00m column_name \u001b[38;5;129;01min\u001b[39;00m columns:\n\u001b[0;32m--> 499\u001b[0m     drift_by_columns[column_name] \u001b[38;5;241m=\u001b[39m \u001b[43mget_one_column_drift\u001b[49m\u001b[43m(\u001b[49m\n\u001b[1;32m    500\u001b[0m \u001b[43m        \u001b[49m\u001b[43mcurrent_data\u001b[49m\u001b[38;5;241;43m=\u001b[39;49m\u001b[43mcurrent_data\u001b[49m\u001b[43m,\u001b[49m\n\u001b[1;32m    501\u001b[0m \u001b[43m        \u001b[49m\u001b[43mreference_data\u001b[49m\u001b[38;5;241;43m=\u001b[39;49m\u001b[43mreference_data\u001b[49m\u001b[43m,\u001b[49m\n\u001b[1;32m    502\u001b[0m \u001b[43m        \u001b[49m\u001b[43mcolumn_name\u001b[49m\u001b[38;5;241;43m=\u001b[39;49m\u001b[43mcolumn_name\u001b[49m\u001b[43m,\u001b[49m\n\u001b[1;32m    503\u001b[0m \u001b[43m        \u001b[49m\u001b[43mcolumn_type\u001b[49m\u001b[38;5;241;43m=\u001b[39;49m\u001b[43mcolumns_types\u001b[49m\u001b[43m[\u001b[49m\u001b[43mcolumn_name\u001b[49m\u001b[43m]\u001b[49m\u001b[43m,\u001b[49m\n\u001b[1;32m    504\u001b[0m \u001b[43m        \u001b[49m\u001b[43moptions\u001b[49m\u001b[38;5;241;43m=\u001b[39;49m\u001b[43mdata_drift_options\u001b[49m\u001b[43m,\u001b[49m\n\u001b[1;32m    505\u001b[0m \u001b[43m        \u001b[49m\u001b[43mdataset_columns\u001b[49m\u001b[38;5;241;43m=\u001b[39;49m\u001b[43mdataset_columns\u001b[49m\u001b[43m,\u001b[49m\n\u001b[1;32m    506\u001b[0m \u001b[43m        \u001b[49m\u001b[43magg_data\u001b[49m\u001b[38;5;241;43m=\u001b[39;49m\u001b[43magg_data\u001b[49m\u001b[43m,\u001b[49m\n\u001b[1;32m    507\u001b[0m \u001b[43m        \u001b[49m\u001b[43mnum_correlations\u001b[49m\u001b[38;5;241;43m=\u001b[39;49m\u001b[43mnum_correlations\u001b[49m\u001b[43m,\u001b[49m\n\u001b[1;32m    508\u001b[0m \u001b[43m        \u001b[49m\u001b[43mis_contains_nans\u001b[49m\u001b[38;5;241;43m=\u001b[39;49m\u001b[43m(\u001b[49m\u001b[43mis_current_contains_nans\u001b[49m\u001b[43m,\u001b[49m\u001b[43m \u001b[49m\u001b[43mis_reference_contains_nans\u001b[49m\u001b[43m)\u001b[49m\u001b[43m,\u001b[49m\n\u001b[1;32m    509\u001b[0m \u001b[43m    \u001b[49m\u001b[43m)\u001b[49m\n\u001b[1;32m    511\u001b[0m dataset_drift \u001b[38;5;241m=\u001b[39m get_dataset_drift(drift_by_columns, drift_share_threshold)\n\u001b[1;32m    512\u001b[0m \u001b[38;5;28;01mreturn\u001b[39;00m DatasetDriftMetrics(\n\u001b[1;32m    513\u001b[0m     number_of_columns\u001b[38;5;241m=\u001b[39m\u001b[38;5;28mlen\u001b[39m(columns),\n\u001b[1;32m    514\u001b[0m     number_of_drifted_columns\u001b[38;5;241m=\u001b[39mdataset_drift\u001b[38;5;241m.\u001b[39mnumber_of_drifted_columns,\n\u001b[0;32m   (...)\u001b[0m\n\u001b[1;32m    519\u001b[0m     dataset_columns\u001b[38;5;241m=\u001b[39mdataset_columns,\n\u001b[1;32m    520\u001b[0m )\n",
      "File \u001b[0;32m~/.local/share/virtualenvs/ECG-Arrhythmia-Classifier-fcqqu0k5/lib/python3.12/site-packages/evidently/calculations/data_drift.py:258\u001b[0m, in \u001b[0;36mget_one_column_drift\u001b[0;34m(current_data, reference_data, column_name, options, dataset_columns, column_type, agg_data, num_correlations, is_contains_nans)\u001b[0m\n\u001b[1;32m    256\u001b[0m \u001b[38;5;28;01mfor\u001b[39;00m key \u001b[38;5;129;01min\u001b[39;00m keys:\n\u001b[1;32m    257\u001b[0m     \u001b[38;5;28;01mif\u001b[39;00m key \u001b[38;5;129;01mnot\u001b[39;00m \u001b[38;5;129;01min\u001b[39;00m reference_counts:\n\u001b[0;32m--> 258\u001b[0m         reference_counts \u001b[38;5;241m=\u001b[39m pd\u001b[38;5;241m.\u001b[39mconcat([reference_counts, \u001b[43mpd\u001b[49m\u001b[38;5;241;43m.\u001b[39;49m\u001b[43mSeries\u001b[49m\u001b[43m(\u001b[49m\u001b[43m[\u001b[49m\u001b[38;5;241;43m0\u001b[39;49m\u001b[43m]\u001b[49m\u001b[43m,\u001b[49m\u001b[43m \u001b[49m\u001b[43mindex\u001b[49m\u001b[38;5;241;43m=\u001b[39;49m\u001b[43m[\u001b[49m\u001b[43mkey\u001b[49m\u001b[43m]\u001b[49m\u001b[43m)\u001b[49m])\n\u001b[1;32m    259\u001b[0m     \u001b[38;5;28;01mif\u001b[39;00m key \u001b[38;5;129;01mnot\u001b[39;00m \u001b[38;5;129;01min\u001b[39;00m current_counts:\n\u001b[1;32m    260\u001b[0m         current_counts \u001b[38;5;241m=\u001b[39m pd\u001b[38;5;241m.\u001b[39mconcat([current_counts, pd\u001b[38;5;241m.\u001b[39mSeries([\u001b[38;5;241m0\u001b[39m], index\u001b[38;5;241m=\u001b[39m[key])])\n",
      "File \u001b[0;32m~/.local/share/virtualenvs/ECG-Arrhythmia-Classifier-fcqqu0k5/lib/python3.12/site-packages/pandas/core/series.py:389\u001b[0m, in \u001b[0;36mSeries.__init__\u001b[0;34m(self, data, index, dtype, name, copy, fastpath)\u001b[0m\n\u001b[1;32m    384\u001b[0m _mgr: SingleManager\n\u001b[1;32m    386\u001b[0m \u001b[38;5;66;03m# ----------------------------------------------------------------------\u001b[39;00m\n\u001b[1;32m    387\u001b[0m \u001b[38;5;66;03m# Constructors\u001b[39;00m\n\u001b[0;32m--> 389\u001b[0m \u001b[38;5;28;01mdef\u001b[39;00m\u001b[38;5;250m \u001b[39m\u001b[38;5;21m__init__\u001b[39m(\n\u001b[1;32m    390\u001b[0m     \u001b[38;5;28mself\u001b[39m,\n\u001b[1;32m    391\u001b[0m     data\u001b[38;5;241m=\u001b[39m\u001b[38;5;28;01mNone\u001b[39;00m,\n\u001b[1;32m    392\u001b[0m     index\u001b[38;5;241m=\u001b[39m\u001b[38;5;28;01mNone\u001b[39;00m,\n\u001b[1;32m    393\u001b[0m     dtype: Dtype \u001b[38;5;241m|\u001b[39m \u001b[38;5;28;01mNone\u001b[39;00m \u001b[38;5;241m=\u001b[39m \u001b[38;5;28;01mNone\u001b[39;00m,\n\u001b[1;32m    394\u001b[0m     name\u001b[38;5;241m=\u001b[39m\u001b[38;5;28;01mNone\u001b[39;00m,\n\u001b[1;32m    395\u001b[0m     copy: \u001b[38;5;28mbool\u001b[39m \u001b[38;5;241m|\u001b[39m \u001b[38;5;28;01mNone\u001b[39;00m \u001b[38;5;241m=\u001b[39m \u001b[38;5;28;01mNone\u001b[39;00m,\n\u001b[1;32m    396\u001b[0m     fastpath: \u001b[38;5;28mbool\u001b[39m \u001b[38;5;241m|\u001b[39m lib\u001b[38;5;241m.\u001b[39mNoDefault \u001b[38;5;241m=\u001b[39m lib\u001b[38;5;241m.\u001b[39mno_default,\n\u001b[1;32m    397\u001b[0m ) \u001b[38;5;241m-\u001b[39m\u001b[38;5;241m>\u001b[39m \u001b[38;5;28;01mNone\u001b[39;00m:\n\u001b[1;32m    398\u001b[0m     \u001b[38;5;28;01mif\u001b[39;00m fastpath \u001b[38;5;129;01mis\u001b[39;00m \u001b[38;5;129;01mnot\u001b[39;00m lib\u001b[38;5;241m.\u001b[39mno_default:\n\u001b[1;32m    399\u001b[0m         warnings\u001b[38;5;241m.\u001b[39mwarn(\n\u001b[1;32m    400\u001b[0m             \u001b[38;5;124m\"\u001b[39m\u001b[38;5;124mThe \u001b[39m\u001b[38;5;124m'\u001b[39m\u001b[38;5;124mfastpath\u001b[39m\u001b[38;5;124m'\u001b[39m\u001b[38;5;124m keyword in pd.Series is deprecated and will \u001b[39m\u001b[38;5;124m\"\u001b[39m\n\u001b[1;32m    401\u001b[0m             \u001b[38;5;124m\"\u001b[39m\u001b[38;5;124mbe removed in a future version.\u001b[39m\u001b[38;5;124m\"\u001b[39m,\n\u001b[1;32m    402\u001b[0m             \u001b[38;5;167;01mDeprecationWarning\u001b[39;00m,\n\u001b[1;32m    403\u001b[0m             stacklevel\u001b[38;5;241m=\u001b[39mfind_stack_level(),\n\u001b[1;32m    404\u001b[0m         )\n",
      "\u001b[0;31mKeyboardInterrupt\u001b[0m: "
     ]
    }
   ],
   "source": [
    "report.show(mode='inline')"
   ]
  },
  {
   "cell_type": "code",
   "execution_count": null,
   "metadata": {},
   "outputs": [],
   "source": [
    "result = report.as_dict()"
   ]
  },
  {
   "cell_type": "code",
   "execution_count": null,
   "metadata": {},
   "outputs": [],
   "source": [
    "#prediction drift\n",
    "result['metrics'][0]['result']['drift_score']"
   ]
  },
  {
   "cell_type": "code",
   "execution_count": null,
   "metadata": {},
   "outputs": [],
   "source": [
    "#share of missing values\n",
    "result['metrics'][2]['result']['current']['share_of_missing_values']"
   ]
  },
  {
   "cell_type": "markdown",
   "metadata": {},
   "source": [
    "### Evidently UI and preset"
   ]
  },
  {
   "cell_type": "code",
   "execution_count": null,
   "metadata": {},
   "outputs": [],
   "source": [
    "ws = Workspace(\"workspace\")"
   ]
  },
  {
   "cell_type": "code",
   "execution_count": null,
   "metadata": {},
   "outputs": [],
   "source": [
    "project = ws.create_project(\"arrythmia classifier\")\n",
    "project.description = \"My project description\"\n",
    "project.save()"
   ]
  },
  {
   "cell_type": "code",
   "execution_count": null,
   "metadata": {},
   "outputs": [],
   "source": [
    "regular_report = Report(\n",
    "    metrics=[\n",
    "        DataQualityPreset(),\n",
    "        ClassificationPreset()\n",
    "    ]\n",
    ")\n",
    "\n",
    "regular_report.run(reference_data=None,\n",
    "                  current_data= reference_data,\n",
    "                  column_mapping=column_mapping)\n",
    "\n",
    "regular_report"
   ]
  }
 ],
 "metadata": {
  "kernelspec": {
   "display_name": "ECG-Arrhythmia-Classifier-fcqqu0k5",
   "language": "python",
   "name": "python3"
  },
  "language_info": {
   "codemirror_mode": {
    "name": "ipython",
    "version": 3
   },
   "file_extension": ".py",
   "mimetype": "text/x-python",
   "name": "python",
   "nbconvert_exporter": "python",
   "pygments_lexer": "ipython3",
   "version": "3.12.3"
  }
 },
 "nbformat": 4,
 "nbformat_minor": 2
}
